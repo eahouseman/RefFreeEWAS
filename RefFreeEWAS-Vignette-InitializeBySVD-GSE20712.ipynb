{
 "cells": [
  {
   "cell_type": "markdown",
   "metadata": {},
   "source": [
    "# RefFreeEWAS Example: a Vignette\n",
    "\n",
    "This notebook demonstrates functionality in the CRAN package [*RefFreeEWAS*](https://cran.r-project.org/web/packages/RefFreeEWAS/index.html), specifically that described in [Houseman, Kile et al. (2016)](https://bmcbioinformatics.biomedcentral.com/articles/10.1186/s12859-016-1140-4), *Reference-free deconvolution of DNA methylation data and mediation by cell composition effects*.  This notebook in particular discusses how to initialize the procedure using SVD, a subject discussed in a recent [data challenge workshop](https://data-institute.univ-grenoble-alpes.fr/research/data-science-for-life-sciences/health-data-challenge-matrix-factorization-and-deconvolution-methods-to-quantify-tumor-heterogeneity-in-cancer-research-756672.htm) and a topic of a forthcoming paper.\n",
    "\n",
    "<img src='https://media.springernature.com/full/springer-static/image/art%3A10.1186%2Fs12859-016-1140-4/MediaObjects/12859_2016_1140_Fig1_HTML.gif'>\n",
    "\n",
    "<small>**Figure 1** from [Houseman, Kile et al. (2016)](https://bmcbioinformatics.biomedcentral.com/articles/10.1186/s12859-016-1140-4): Overview of proposed Methods. If associations between DNA methylation data $Y$ and phenotypic metadata $X$ factor through the decomposition $Y = M\\Omega^T$ , and the data in $M$ serve to distinguish cell types by their associations with relevant annotation data, then associations between $X$ and $Y$ are explained in whole or in part by differences in the distribution of constituent cell types. Numbers indicate steps in analysis: (1) deconvolution; (2) determining discriminating loci; (3) gene-set analysis; (4) analysis of associations with phenotype.</small>\n"
   ]
  },
  {
   "cell_type": "markdown",
   "metadata": {},
   "source": [
    "**Directions**:  Please create a working directory and extract the contents of this [zip file](\n",
    "https://github.com/eahouseman/RefFreeEWAS/blob/master/GSE20712Data.zip).  The original data was obtained from [Gene Expression Omnibus](ftp://ftp.ncbi.nlm.nih.gov/geo/series/GSE20nnn/GSE20712/matrix/).  \n",
    "\n",
    "The code block below sets the working directory, load libraries and data, and creates some useful global variables."
   ]
  },
  {
   "cell_type": "code",
   "execution_count": 1,
   "metadata": {},
   "outputs": [
    {
     "name": "stderr",
     "output_type": "stream",
     "text": [
      "Loading required package: quadprog\n"
     ]
    }
   ],
   "source": [
    "# Change working directory to an appropriate location\n",
    "setwd('C:\\\\Users\\\\eahou\\\\Documents\\\\Vignettes\\\\RefFreeEWAS')\n",
    "\n",
    "################ ################ ################\n",
    "# Load libraries\n",
    "library(RefFreeEWAS)\n",
    "library(RColorBrewer)\n",
    "\n",
    "############### ################\n",
    "# Load data example\n",
    "# (GSE20712 from Gene Expression Omnibus)\n",
    "# https://www.ncbi.nlm.nih.gov/geo/query/acc.cgi?acc=GSE20712\n",
    "# Data from here: ftp://ftp.ncbi.nlm.nih.gov/geo/series/GSE20nnn/GSE20712/matrix/ \n",
    "load(\"GSE20712.RData\")\n",
    "\n",
    "############### ################\n",
    "# Create some global variables necessary for the analyses\n",
    "\n",
    "# The microarray data that will be deconvolved:\n",
    "Y.all = dataGSE.20712$assay \n",
    "\n",
    "# Indices of tumor data\n",
    "tumSelect = which(dataGSE.20712$pheno$Source==\"Breast tumor\")\n",
    "\n",
    "# Indices of non-pathologial data\n",
    "normSelect = which(dataGSE.20712$pheno$Source==\"Normal breast tissue\")\n",
    "\n",
    "# IHC class of tumor\n",
    "tumClass = factor(dataGSE.20712$pheno$subtypeihc[tumSelect])\n",
    "\n",
    "# Color palette for indicating tumor class in various plots\n",
    "tumColor = brewer.pal(length(levels(tumClass)),\"Set1\")"
   ]
  },
  {
   "cell_type": "markdown",
   "metadata": {},
   "source": [
    "It's best to use a subset of the entire microarray, consisting of CpGs that are likely to be informative for distinguishing types.  Note that we don't want to select CpGs based on explicit statistical criteria regarding their ability to differentiate tumor, otherwise subsequent regressiona analyses will be \"contaminated\" by the initial selection process, leading to biased p-values.  See the literature on [semi-supervised learning](https://scholar.google.com/scholar?hl=en&as_sdt=0%2C48&q=semi-supervised+learning&btnG=) for more details.\n",
    "\n",
    "Below we demonstrate one possible selection criteria based on PCA (similar to a common approach for selecting informative SNPs in genotype analysis)."
   ]
  },
  {
   "cell_type": "code",
   "execution_count": 2,
   "metadata": {},
   "outputs": [
    {
     "data": {
      "image/png": "[encoded data removed]",
      "text/plain": [
       "plot without title"
      ]
     },
     "metadata": {},
     "output_type": "display_data"
    },
    {
     "data": {
      "image/png": "[encoded data removed]",
      "text/plain": [
       "Plot with title \"Histogram of mh\""
      ]
     },
     "metadata": {},
     "output_type": "display_data"
    }
   ],
   "source": [
    "########################\n",
    "# CpG selection by PCA\n",
    "\n",
    "sv = svd(scale(t(Y.all)))    # PCA\n",
    "plot(sv$d^2,type=\"b\")        # Scree plot\n",
    "\n",
    "# Select first (7?) PCs\n",
    "pcSelect =  sv$v[,1:7]  \n",
    "\n",
    "# Mahalanobis distances of selected loadings\n",
    "mh = mahalanobis(pcSelect, apply(pcSelect,2,mean), cov(pcSelect))\n",
    "hist(mh)\n",
    "\n",
    "# CpGs that we will use for deconvolution\n",
    "cpgSelect = order(mh, decreasing=TRUE)[1:5000]  # Select (5000?) most informative CpGs \n",
    "\n",
    "# Microarray subset consisting of selected CpGs only\n",
    "Ysel = Y.all[cpgSelect,]\n"
   ]
  },
  {
   "cell_type": "markdown",
   "metadata": {},
   "source": [
    "Now we attempt to find the best value of $K$, the number of assumed cell types.  First we fit deconvolutions for a range of values of $K$, then we perform a bootstrap procedure to estimate the out-of-box deviance for each value of $K$.\n",
    "\n",
    "Note that both the deconvolution step and the bootstrap step could take quite a while to run."
   ]
  },
  {
   "cell_type": "code",
   "execution_count": 3,
   "metadata": {},
   "outputs": [
    {
     "name": "stdout",
     "output_type": "stream",
     "text": [
      "Fitting K = 1 \n",
      "Fitting K = 2 \n",
      "Fitting K = 3 \n",
      "Fitting K = 4 \n",
      "Fitting K = 5 \n",
      "Fitting K = 6 \n",
      "Fitting K = 7 \n",
      "Fitting K = 8 \n",
      "Fitting K = 9 \n",
      "Fitting K = 10 \n",
      "Fitting K = 11 \n",
      "Fitting K = 12 \n"
     ]
    }
   ],
   "source": [
    "########################\n",
    "# Cell mixture array with custom start (SVD)\n",
    "\n",
    "# Get PCs (without standardization)\n",
    "svSel = svd(Ysel)\n",
    "\n",
    "# Initial deconvolution (note, this could take awhile)\n",
    "cellmixArray  <- RefFreeCellMixArrayWithCustomStart(Ysel, \n",
    "    mu.start = svSel$u,  # Initial methylome matrix \n",
    "    Klist=1:12,          # List of K values to try (# constituent cell types)\n",
    "    iters=25             # Number of iterations per value of K\n",
    ")"
   ]
  },
  {
   "cell_type": "code",
   "execution_count": 4,
   "metadata": {},
   "outputs": [
    {
     "name": "stdout",
     "output_type": "stream",
     "text": [
      "Bootstrap 10 \n",
      "Bootstrap 20 \n",
      "Bootstrap 30 \n",
      "Bootstrap 40 \n",
      "Bootstrap 50 \n",
      "Bootstrap 60 \n",
      "Bootstrap 70 \n",
      "Bootstrap 80 \n",
      "Bootstrap 90 \n",
      "Bootstrap 100 \n"
     ]
    }
   ],
   "source": [
    "########################\n",
    "# Bootstrap\n",
    "# Do the bootstrap for selecting the K parameter (# assumed cell types)\n",
    "cellmixArrayBoot <- RefFreeCellMixArrayDevianceBoots(\n",
    "   cellmixArray,            # Array object\n",
    "   Y=Ysel,                  # Data on which array was based\n",
    "   R=100,                   # 100 bootstraps for example (should really use 500 or so)\n",
    "   bootstrapIterations=10)  # Num iterations per bootstrap (can be smaller than above)\n"
   ]
  },
  {
   "cell_type": "markdown",
   "metadata": {},
   "source": [
    "Now visualize the results of the boostrap analysis and select the value of $K$ with the smallest deviance, as measured by trimmed (Winsorized) mean.  \n",
    "\n",
    "Note that the first element of every element of `cellmixArrayBoot` is the non-bootstrapped deviance, so it needs to be removed from the analyses below. Note also that while the `Omega` element of the `cellmixArray` object represents the cell proportions corresponding to each sample, the `Mu` element respresents the cell-specific methylome over *only* the CpGs used for the deconvolution.  Another step will be needed to compute the cell-specific methylome over *all* CpGs (see below)."
   ]
  },
  {
   "cell_type": "code",
   "execution_count": 5,
   "metadata": {},
   "outputs": [
    {
     "data": {
      "text/html": [
       "<dl class=dl-horizontal>\n",
       "\t<dt>1</dt>\n",
       "\t\t<dd>-5309.78581600778</dd>\n",
       "\t<dt>2</dt>\n",
       "\t\t<dd>-6665.51161415043</dd>\n",
       "\t<dt>3</dt>\n",
       "\t\t<dd>-6939.23975592442</dd>\n",
       "\t<dt>4</dt>\n",
       "\t\t<dd>-7212.62872053599</dd>\n",
       "\t<dt>5</dt>\n",
       "\t\t<dd>-7527.93149032124</dd>\n",
       "\t<dt>6</dt>\n",
       "\t\t<dd>-6884.02115239848</dd>\n",
       "\t<dt>7</dt>\n",
       "\t\t<dd>-6556.34576911338</dd>\n",
       "\t<dt>8</dt>\n",
       "\t\t<dd>-6354.15910073586</dd>\n",
       "\t<dt>9</dt>\n",
       "\t\t<dd>-5588.55785896817</dd>\n",
       "\t<dt>10</dt>\n",
       "\t\t<dd>-4989.51831569024</dd>\n",
       "\t<dt>11</dt>\n",
       "\t\t<dd>-4665.0880144368</dd>\n",
       "\t<dt>12</dt>\n",
       "\t\t<dd>-4212.22113233791</dd>\n",
       "</dl>\n"
      ],
      "text/latex": [
       "\\begin{description*}\n",
       "\\item[1] -5309.78581600778\n",
       "\\item[2] -6665.51161415043\n",
       "\\item[3] -6939.23975592442\n",
       "\\item[4] -7212.62872053599\n",
       "\\item[5] -7527.93149032124\n",
       "\\item[6] -6884.02115239848\n",
       "\\item[7] -6556.34576911338\n",
       "\\item[8] -6354.15910073586\n",
       "\\item[9] -5588.55785896817\n",
       "\\item[10] -4989.51831569024\n",
       "\\item[11] -4665.0880144368\n",
       "\\item[12] -4212.22113233791\n",
       "\\end{description*}\n"
      ],
      "text/markdown": [
       "1\n",
       ":   -5309.785816007782\n",
       ":   -6665.511614150433\n",
       ":   -6939.239755924424\n",
       ":   -7212.628720535995\n",
       ":   -7527.931490321246\n",
       ":   -6884.021152398487\n",
       ":   -6556.345769113388\n",
       ":   -6354.159100735869\n",
       ":   -5588.5578589681710\n",
       ":   -4989.5183156902411\n",
       ":   -4665.088014436812\n",
       ":   -4212.22113233791\n",
       "\n"
      ],
      "text/plain": [
       "        1         2         3         4         5         6         7         8 \n",
       "-5309.786 -6665.512 -6939.240 -7212.629 -7527.931 -6884.021 -6556.346 -6354.159 \n",
       "        9        10        11        12 \n",
       "-5588.558 -4989.518 -4665.088 -4212.221 "
      ]
     },
     "metadata": {},
     "output_type": "display_data"
    },
    {
     "data": {
      "text/html": [
       "<strong>5:</strong> 5"
      ],
      "text/latex": [
       "\\textbf{5:} 5"
      ],
      "text/markdown": [
       "**5:** 5"
      ],
      "text/plain": [
       "5 \n",
       "5 "
      ]
     },
     "metadata": {},
     "output_type": "display_data"
    },
    {
     "data": {
      "image/png": "[encoded data removed]",
      "text/plain": [
       "plot without title"
      ]
     },
     "metadata": {},
     "output_type": "display_data"
    }
   ],
   "source": [
    "########################\n",
    "# Selecting K\n",
    "\n",
    "# Show winsorized mean deviance per K\n",
    "wnsrMeanDev <-apply(cellmixArrayBoot[-1,], 2, mean, trim=0.25)\n",
    "wnsrMeanDev\n",
    "\n",
    "# View bootstraps\n",
    "boxplot(cellmixArrayBoot[-1,],type=\"n\")\n",
    "for(i in 1:100) lines(1:12,cellmixArrayBoot[1+i,],col=hsv(0,0,0.95),lty=2)\n",
    "boxplot(cellmixArrayBoot[-1,],add=TRUE)\n",
    "points(1:12, wnsrMeanDev, pch=19, col=\"blue\")\n",
    "lines(1:12, wnsrMeanDev, col=\"blue\")\n",
    "\n",
    "# Choose K based on minimum deviance\n",
    "Kchoose <- which.min(wnsrMeanDev)\n",
    "Kchoose\n",
    "\n",
    "# Chosen Omega\n",
    "Omega <- cellmixArray[[ Kchoose ]]$Omega # The cell mixture matrix\n",
    "MuSmall <- cellmixArray[[ Kchoose ]]$Mu\n",
    "\n",
    "\n"
   ]
  },
  {
   "cell_type": "markdown",
   "metadata": {},
   "source": [
    "Next we visualize the cell proportion data for normal and tumor data separately.  Note the uniformity of the normal data relative to the tumor data!"
   ]
  },
  {
   "cell_type": "code",
   "execution_count": 6,
   "metadata": {},
   "outputs": [
    {
     "data": {
      "image/png": "[encoded data removed]",
      "text/plain": [
       "plot without title"
      ]
     },
     "metadata": {},
     "output_type": "display_data"
    },
    {
     "data": {
      "image/png": "[encoded data removed]",
      "text/plain": [
       "plot without title"
      ]
     },
     "metadata": {},
     "output_type": "display_data"
    }
   ],
   "source": [
    "########################\n",
    "# Visualizing the Omega matrix\n",
    "heatPalette = hsv(0.75,(0:100)/100,1)  # Heatmap color palette\n",
    "\n",
    "# Normal\n",
    "heatmap(Omega[normSelect,],scale=\"n\",zlim=c(0,1),col=heatPalette)\n",
    "\n",
    "# Tumor\n",
    "heatmap(Omega[tumSelect,],scale=\"n\",zlim=c(0,1),col=heatPalette,\n",
    "   RowSideColor=tumColor[as.numeric(tumClass)])"
   ]
  },
  {
   "cell_type": "markdown",
   "metadata": {},
   "source": [
    "Now we get the methylome matrix for the entire microarray:"
   ]
  },
  {
   "cell_type": "code",
   "execution_count": 7,
   "metadata": {},
   "outputs": [
    {
     "data": {
      "text/html": [
       "<ol class=list-inline>\n",
       "\t<li>27578</li>\n",
       "\t<li>5</li>\n",
       "</ol>\n"
      ],
      "text/latex": [
       "\\begin{enumerate*}\n",
       "\\item 27578\n",
       "\\item 5\n",
       "\\end{enumerate*}\n"
      ],
      "text/markdown": [
       "1. 27578\n",
       "2. 5\n",
       "\n",
       "\n"
      ],
      "text/plain": [
       "[1] 27578     5"
      ]
     },
     "metadata": {},
     "output_type": "display_data"
    },
    {
     "data": {
      "text/html": [
       "<ol class=list-inline>\n",
       "\t<li>5000</li>\n",
       "\t<li>5</li>\n",
       "</ol>\n"
      ],
      "text/latex": [
       "\\begin{enumerate*}\n",
       "\\item 5000\n",
       "\\item 5\n",
       "\\end{enumerate*}\n"
      ],
      "text/markdown": [
       "1. 5000\n",
       "2. 5\n",
       "\n",
       "\n"
      ],
      "text/plain": [
       "[1] 5000    5"
      ]
     },
     "metadata": {},
     "output_type": "display_data"
    }
   ],
   "source": [
    "########################\n",
    "# Get Mu for the entire array (not just the CpGs that were selected for deconvolution)\n",
    "Mu <- projectMix(t(Y.all), Omega)\n",
    "\n",
    "# Compare\n",
    "dim(Mu)\n",
    "dim(MuSmall)"
   ]
  },
  {
   "cell_type": "markdown",
   "metadata": {},
   "source": [
    "Next we demonstrate how to look for associations between methylomes `Mu` and genomic annotation data.\n",
    "For this example we will use polycomb target gene (PcG) annotation (as described in the [paper](https://bmcbioinformatics.biomedcentral.com/articles/10.1186/s12859-016-1140-4))."
   ]
  },
  {
   "cell_type": "code",
   "execution_count": 8,
   "metadata": {},
   "outputs": [],
   "source": [
    "################################################\n",
    "# Analyze associations between Mu and PcG status\n",
    "\n",
    "PcG = read.delim(\"PcGTargets27K.txt\", head=TRUE, stringsAsFactors=FALSE)\n",
    "\n",
    "# Read the 27K annotation file\n",
    "annot = read.table(\"CpG-annotation-Infinium.txt\",\n",
    "  sep=\"\\t\", head=TRUE, stringsAsFactors=FALSE)\n",
    "\n",
    "# Compute a PcG score (as described in the paper)\n",
    "PcGScore = apply(as.matrix(PcG[,-(1:2)]), 1, sum)\n",
    "names(PcGScore) = PcG$EntrezGene.ID\n",
    "\n",
    "# Construct the PcG annotation vector over all CpGs,\n",
    "#  merging by Entrez Gene ID.\n",
    "tmpPcG = rep(0,nrow(annot))\n",
    "names(tmpPcG) = annot$Entrez\n",
    "tmpIsect = intersect(names(tmpPcG),names(PcGScore))\n",
    "tmpPcG[tmpIsect] = PcGScore[tmpIsect]\n",
    "annot$PcG = tmpPcG\n"
   ]
  },
  {
   "cell_type": "markdown",
   "metadata": {},
   "source": [
    "Next, look at the association of row-specific variation and PcG status.  Compare with the results from PCA.  In particular, compare the Kruskal-Wallis p-values and correlations."
   ]
  },
  {
   "cell_type": "code",
   "execution_count": 9,
   "metadata": {},
   "outputs": [
    {
     "data": {
      "text/html": [
       "TRUE"
      ],
      "text/latex": [
       "TRUE"
      ],
      "text/markdown": [
       "TRUE"
      ],
      "text/plain": [
       "[1] TRUE"
      ]
     },
     "metadata": {},
     "output_type": "display_data"
    },
    {
     "name": "stdout",
     "output_type": "stream",
     "text": [
      "Correlation with Cell Proportions:\n",
      "       [,1]\n",
      "[1,]  0.000\n",
      "[2,] -0.061\n",
      "[3,]  0.021\n",
      "[4,]  0.230\n",
      "[5,]  0.001\n",
      "\n",
      "Correlation with PC Scores:\n"
     ]
    },
    {
     "ename": "ERROR",
     "evalue": "Error in is.data.frame(x): object 'PCs' not found\n",
     "output_type": "error",
     "traceback": [
      "Error in is.data.frame(x): object 'PCs' not found\nTraceback:\n",
      "1. print(round(cor(PCs, pmin(annot$PcG, 3)), 3))",
      "2. cor(PCs, pmin(annot$PcG, 3))",
      "3. is.data.frame(x)"
     ]
    }
   ],
   "source": [
    "# Check to make sure the ordering of the annotation file\n",
    "#  matches the microarray data\n",
    "all(rownames(Y.all)==annot$Name)\n",
    "\n",
    "# For each CpG, compute the methylation variance across cell \"types\"\n",
    "v.Mu = apply(Mu,1,var)\n",
    "\n",
    "# Calculate correlation matrices and compare\n",
    "cat('Correlation with Cell Proportions:\\n')\n",
    "print(round(cor(Mu,pmin(annot$PcG,3)),3))\n",
    "cat('\\nCorrelation with PC Scores:\\n')\n",
    "print(round(cor(PCs,pmin(annot$PcG,3)),3))\n",
    "\n",
    "# Test whether there is a difference using the Kruskal-Wallis test\n",
    "cat('\\nCell Proportions:\\n')\n",
    "print(kruskal.test(v.Mu~pmin(annot$PcG,3)))\n",
    "\n",
    "# Compare with principal components\n",
    "PCs = sv$v[,1:7]\n",
    "cat('\\nPC Scores:\\n')\n",
    "print(kruskal.test(sv$v[,1]~pmin(annot$PcG,3)))\n",
    "\n",
    "# Show boxplots\n",
    "par(mfrow=c(1,2))\n",
    "boxplot(v.Mu~pmin(annot$PcG,3), xlab='PcG Score', ylab='Variance')\n",
    "boxplot(sv$v[,1]~pmin(annot$PcG,3), xlab='PC Score', ylab='Variance')\n",
    "par(mfrow=c(1,1))"
   ]
  },
  {
   "cell_type": "markdown",
   "metadata": {},
   "source": [
    "Now we demonstrate how to look for associations between cell proportions and phenotypic metadata.  In this example we will look at the association between cell proportion and tumor type (IHC class) adjusted by age and ER status.\n",
    "\n",
    "Note that we will use a quasi-binomial generalized linear model (GLM) to account for the approximate Dirichlet distribution followed by the cell proportions."
   ]
  },
  {
   "cell_type": "code",
   "execution_count": 10,
   "metadata": {},
   "outputs": [
    {
     "data": {
      "text/html": [
       "<ol class=list-inline>\n",
       "\t<li>-8.5401299978021e-18</li>\n",
       "\t<li>0.940502914813657</li>\n",
       "</ol>\n"
      ],
      "text/latex": [
       "\\begin{enumerate*}\n",
       "\\item -8.5401299978021e-18\n",
       "\\item 0.940502914813657\n",
       "\\end{enumerate*}\n"
      ],
      "text/markdown": [
       "1. -8.5401299978021e-18\n",
       "2. 0.940502914813657\n",
       "\n",
       "\n"
      ],
      "text/plain": [
       "[1] -8.540130e-18  9.405029e-01"
      ]
     },
     "metadata": {},
     "output_type": "display_data"
    },
    {
     "name": "stderr",
     "output_type": "stream",
     "text": [
      "Warning message in eval(expr, envir, enclos):\n",
      "\"NAs introduced by coercion\""
     ]
    },
    {
     "data": {
      "text/html": [
       "<table>\n",
       "<thead><tr><th scope=col>Estimate</th><th scope=col>Std. Error</th><th scope=col>t value</th><th scope=col>Pr(&gt;|t|)</th></tr></thead>\n",
       "<tbody>\n",
       "\t<tr><td>-0.8581771 </td><td>0.2828019  </td><td>-3.0345527 </td><td>0.002989788</td></tr>\n",
       "\t<tr><td> 0.2246937 </td><td>0.1873862  </td><td> 1.1990941 </td><td>0.232999778</td></tr>\n",
       "\t<tr><td>-0.1233869 </td><td>0.1824051  </td><td>-0.6764443 </td><td>0.500140880</td></tr>\n",
       "\t<tr><td> 0.3986156 </td><td>0.2148167  </td><td> 1.8556082 </td><td>0.066115289</td></tr>\n",
       "\t<tr><td>-0.2839789 </td><td>0.1886795  </td><td>-1.5050857 </td><td>0.135092172</td></tr>\n",
       "</tbody>\n",
       "</table>\n"
      ],
      "text/latex": [
       "\\begin{tabular}{llll}\n",
       " Estimate & Std. Error & t value & Pr(>\\textbar{}t\\textbar{})\\\\\n",
       "\\hline\n",
       "\t -0.8581771  & 0.2828019   & -3.0345527  & 0.002989788\\\\\n",
       "\t  0.2246937  & 0.1873862   &  1.1990941  & 0.232999778\\\\\n",
       "\t -0.1233869  & 0.1824051   & -0.6764443  & 0.500140880\\\\\n",
       "\t  0.3986156  & 0.2148167   &  1.8556082  & 0.066115289\\\\\n",
       "\t -0.2839789  & 0.1886795   & -1.5050857  & 0.135092172\\\\\n",
       "\\end{tabular}\n"
      ],
      "text/markdown": [
       "\n",
       "| Estimate | Std. Error | t value | Pr(>|t|) |\n",
       "|---|---|---|---|\n",
       "| -0.8581771  | 0.2828019   | -3.0345527  | 0.002989788 |\n",
       "|  0.2246937  | 0.1873862   |  1.1990941  | 0.232999778 |\n",
       "| -0.1233869  | 0.1824051   | -0.6764443  | 0.500140880 |\n",
       "|  0.3986156  | 0.2148167   |  1.8556082  | 0.066115289 |\n",
       "| -0.2839789  | 0.1886795   | -1.5050857  | 0.135092172 |\n",
       "\n"
      ],
      "text/plain": [
       "     Estimate   Std. Error t value    Pr(>|t|)   \n",
       "[1,] -0.8581771 0.2828019  -3.0345527 0.002989788\n",
       "[2,]  0.2246937 0.1873862   1.1990941 0.232999778\n",
       "[3,] -0.1233869 0.1824051  -0.6764443 0.500140880\n",
       "[4,]  0.3986156 0.2148167   1.8556082 0.066115289\n",
       "[5,] -0.2839789 0.1886795  -1.5050857 0.135092172"
      ]
     },
     "metadata": {},
     "output_type": "display_data"
    },
    {
     "data": {
      "text/html": [
       "<table>\n",
       "<thead><tr><th scope=col>Estimate</th><th scope=col>Std. Error</th><th scope=col>t value</th><th scope=col>Pr(&gt;|t|)</th></tr></thead>\n",
       "<tbody>\n",
       "\t<tr><td>-0.002494894</td><td>0.01800690  </td><td>-0.1385521  </td><td>0.89005069  </td></tr>\n",
       "\t<tr><td>-0.012216085</td><td>0.01634848  </td><td>-0.7472306  </td><td>0.45647644  </td></tr>\n",
       "\t<tr><td>-0.005625050</td><td>0.01799096  </td><td>-0.3126599  </td><td>0.75511536  </td></tr>\n",
       "\t<tr><td>-0.040305761</td><td>0.01742458  </td><td>-2.3131553  </td><td>0.02252361  </td></tr>\n",
       "\t<tr><td>-0.004316511</td><td>0.01848441  </td><td>-0.2335217  </td><td>0.81577886  </td></tr>\n",
       "\t<tr><td>-0.025792974</td><td>0.01621991  </td><td>-1.5902048  </td><td>0.11458257  </td></tr>\n",
       "\t<tr><td>-0.005259976</td><td>0.01745117  </td><td>-0.3014110  </td><td>0.76365506  </td></tr>\n",
       "</tbody>\n",
       "</table>\n"
      ],
      "text/latex": [
       "\\begin{tabular}{llll}\n",
       " Estimate & Std. Error & t value & Pr(>\\textbar{}t\\textbar{})\\\\\n",
       "\\hline\n",
       "\t -0.002494894 & 0.01800690   & -0.1385521   & 0.89005069  \\\\\n",
       "\t -0.012216085 & 0.01634848   & -0.7472306   & 0.45647644  \\\\\n",
       "\t -0.005625050 & 0.01799096   & -0.3126599   & 0.75511536  \\\\\n",
       "\t -0.040305761 & 0.01742458   & -2.3131553   & 0.02252361  \\\\\n",
       "\t -0.004316511 & 0.01848441   & -0.2335217   & 0.81577886  \\\\\n",
       "\t -0.025792974 & 0.01621991   & -1.5902048   & 0.11458257  \\\\\n",
       "\t -0.005259976 & 0.01745117   & -0.3014110   & 0.76365506  \\\\\n",
       "\\end{tabular}\n"
      ],
      "text/markdown": [
       "\n",
       "| Estimate | Std. Error | t value | Pr(>|t|) |\n",
       "|---|---|---|---|\n",
       "| -0.002494894 | 0.01800690   | -0.1385521   | 0.89005069   |\n",
       "| -0.012216085 | 0.01634848   | -0.7472306   | 0.45647644   |\n",
       "| -0.005625050 | 0.01799096   | -0.3126599   | 0.75511536   |\n",
       "| -0.040305761 | 0.01742458   | -2.3131553   | 0.02252361   |\n",
       "| -0.004316511 | 0.01848441   | -0.2335217   | 0.81577886   |\n",
       "| -0.025792974 | 0.01621991   | -1.5902048   | 0.11458257   |\n",
       "| -0.005259976 | 0.01745117   | -0.3014110   | 0.76365506   |\n",
       "\n"
      ],
      "text/plain": [
       "     Estimate     Std. Error t value    Pr(>|t|)  \n",
       "[1,] -0.002494894 0.01800690 -0.1385521 0.89005069\n",
       "[2,] -0.012216085 0.01634848 -0.7472306 0.45647644\n",
       "[3,] -0.005625050 0.01799096 -0.3126599 0.75511536\n",
       "[4,] -0.040305761 0.01742458 -2.3131553 0.02252361\n",
       "[5,] -0.004316511 0.01848441 -0.2335217 0.81577886\n",
       "[6,] -0.025792974 0.01621991 -1.5902048 0.11458257\n",
       "[7,] -0.005259976 0.01745117 -0.3014110 0.76365506"
      ]
     },
     "metadata": {},
     "output_type": "display_data"
    },
    {
     "data": {
      "text/html": [
       "<table>\n",
       "<thead><tr><th scope=col>Estimate</th><th scope=col>Std. Error</th><th scope=col>t value</th><th scope=col>Pr(&gt;|t|)</th></tr></thead>\n",
       "<tbody>\n",
       "\t<tr><td> 1.6819939  </td><td>0.7560027   </td><td> 2.2248517  </td><td>0.0280775106</td></tr>\n",
       "\t<tr><td>-1.1708636  </td><td>0.4107125   </td><td>-2.8508108  </td><td>0.0051851196</td></tr>\n",
       "\t<tr><td>-0.3526603  </td><td>0.4144862   </td><td>-0.8508372  </td><td>0.3966591581</td></tr>\n",
       "\t<tr><td>-0.5211334  </td><td>0.4711283   </td><td>-1.1061390  </td><td>0.2710157237</td></tr>\n",
       "\t<tr><td> 1.5595327  </td><td>0.4481803   </td><td> 3.4796995  </td><td>0.0007141146</td></tr>\n",
       "</tbody>\n",
       "</table>\n"
      ],
      "text/latex": [
       "\\begin{tabular}{llll}\n",
       " Estimate & Std. Error & t value & Pr(>\\textbar{}t\\textbar{})\\\\\n",
       "\\hline\n",
       "\t  1.6819939   & 0.7560027    &  2.2248517   & 0.0280775106\\\\\n",
       "\t -1.1708636   & 0.4107125    & -2.8508108   & 0.0051851196\\\\\n",
       "\t -0.3526603   & 0.4144862    & -0.8508372   & 0.3966591581\\\\\n",
       "\t -0.5211334   & 0.4711283    & -1.1061390   & 0.2710157237\\\\\n",
       "\t  1.5595327   & 0.4481803    &  3.4796995   & 0.0007141146\\\\\n",
       "\\end{tabular}\n"
      ],
      "text/markdown": [
       "\n",
       "| Estimate | Std. Error | t value | Pr(>|t|) |\n",
       "|---|---|---|---|\n",
       "|  1.6819939   | 0.7560027    |  2.2248517   | 0.0280775106 |\n",
       "| -1.1708636   | 0.4107125    | -2.8508108   | 0.0051851196 |\n",
       "| -0.3526603   | 0.4144862    | -0.8508372   | 0.3966591581 |\n",
       "| -0.5211334   | 0.4711283    | -1.1061390   | 0.2710157237 |\n",
       "|  1.5595327   | 0.4481803    |  3.4796995   | 0.0007141146 |\n",
       "\n"
      ],
      "text/plain": [
       "     Estimate   Std. Error t value    Pr(>|t|)    \n",
       "[1,]  1.6819939 0.7560027   2.2248517 0.0280775106\n",
       "[2,] -1.1708636 0.4107125  -2.8508108 0.0051851196\n",
       "[3,] -0.3526603 0.4144862  -0.8508372 0.3966591581\n",
       "[4,] -0.5211334 0.4711283  -1.1061390 0.2710157237\n",
       "[5,]  1.5595327 0.4481803   3.4796995 0.0007141146"
      ]
     },
     "metadata": {},
     "output_type": "display_data"
    },
    {
     "data": {
      "text/html": [
       "<table>\n",
       "<thead><tr><th scope=col>Estimate</th><th scope=col>Std. Error</th><th scope=col>t value</th><th scope=col>Pr(&gt;|t|)</th></tr></thead>\n",
       "<tbody>\n",
       "\t<tr><td> 0.079071563</td><td>0.04010159  </td><td> 1.97178148 </td><td>0.05107828  </td></tr>\n",
       "\t<tr><td> 0.092090991</td><td>0.03640827  </td><td> 2.52939774 </td><td>0.01280433  </td></tr>\n",
       "\t<tr><td>-0.039550543</td><td>0.04006608  </td><td>-0.98713274 </td><td>0.32568654  </td></tr>\n",
       "\t<tr><td> 0.050939285</td><td>0.03880476  </td><td> 1.31270727 </td><td>0.19194145  </td></tr>\n",
       "\t<tr><td>-0.003278936</td><td>0.04116501  </td><td>-0.07965346 </td><td>0.93665377  </td></tr>\n",
       "\t<tr><td> 0.061553884</td><td>0.03612193  </td><td> 1.70405841 </td><td>0.09111854  </td></tr>\n",
       "\t<tr><td> 0.091327716</td><td>0.03886398  </td><td> 2.34993228 </td><td>0.02051203  </td></tr>\n",
       "</tbody>\n",
       "</table>\n"
      ],
      "text/latex": [
       "\\begin{tabular}{llll}\n",
       " Estimate & Std. Error & t value & Pr(>\\textbar{}t\\textbar{})\\\\\n",
       "\\hline\n",
       "\t  0.079071563 & 0.04010159   &  1.97178148  & 0.05107828  \\\\\n",
       "\t  0.092090991 & 0.03640827   &  2.52939774  & 0.01280433  \\\\\n",
       "\t -0.039550543 & 0.04006608   & -0.98713274  & 0.32568654  \\\\\n",
       "\t  0.050939285 & 0.03880476   &  1.31270727  & 0.19194145  \\\\\n",
       "\t -0.003278936 & 0.04116501   & -0.07965346  & 0.93665377  \\\\\n",
       "\t  0.061553884 & 0.03612193   &  1.70405841  & 0.09111854  \\\\\n",
       "\t  0.091327716 & 0.03886398   &  2.34993228  & 0.02051203  \\\\\n",
       "\\end{tabular}\n"
      ],
      "text/markdown": [
       "\n",
       "| Estimate | Std. Error | t value | Pr(>|t|) |\n",
       "|---|---|---|---|\n",
       "|  0.079071563 | 0.04010159   |  1.97178148  | 0.05107828   |\n",
       "|  0.092090991 | 0.03640827   |  2.52939774  | 0.01280433   |\n",
       "| -0.039550543 | 0.04006608   | -0.98713274  | 0.32568654   |\n",
       "|  0.050939285 | 0.03880476   |  1.31270727  | 0.19194145   |\n",
       "| -0.003278936 | 0.04116501   | -0.07965346  | 0.93665377   |\n",
       "|  0.061553884 | 0.03612193   |  1.70405841  | 0.09111854   |\n",
       "|  0.091327716 | 0.03886398   |  2.34993228  | 0.02051203   |\n",
       "\n"
      ],
      "text/plain": [
       "     Estimate     Std. Error t value     Pr(>|t|)  \n",
       "[1,]  0.079071563 0.04010159  1.97178148 0.05107828\n",
       "[2,]  0.092090991 0.03640827  2.52939774 0.01280433\n",
       "[3,] -0.039550543 0.04006608 -0.98713274 0.32568654\n",
       "[4,]  0.050939285 0.03880476  1.31270727 0.19194145\n",
       "[5,] -0.003278936 0.04116501 -0.07965346 0.93665377\n",
       "[6,]  0.061553884 0.03612193  1.70405841 0.09111854\n",
       "[7,]  0.091327716 0.03886398  2.34993228 0.02051203"
      ]
     },
     "metadata": {},
     "output_type": "display_data"
    }
   ],
   "source": [
    "################################################\n",
    "# Analyze associations between Omega and Phenotype\n",
    "\n",
    "#Some values are numerically zero but still have negative sign.\n",
    "# We need to change the sign so that the GLM does not fail.\n",
    "range(Omega)\n",
    "Omega = abs(Omega) \n",
    "\n",
    "# Create design matrix\n",
    "tmpData = dataGSE.20712$pheno[tumSelect,]\n",
    "tmpData$agebin = as.numeric(tmpData$agebin)\n",
    "tmpData$er = as.numeric(tmpData$er)\n",
    "tmpData$er[is.na(tmpData$er)] = 0\n",
    "#tmpData$her2 = as.numeric(tmpData$her2)\n",
    "\n",
    "X = model.matrix(~agebin+subtypeihc+er,tmpData)\n",
    "colnames(X)=gsub(\"^subtypeihc\",\"\",colnames(X))\n",
    "colnames(X)[colnames(X)==\"er\"] = \"ER\"\n",
    "colnames(X)[colnames(X)==\"agebin\"] = \"older\"\n",
    "\n",
    "# Function for fitting a GLM to all dimensions\n",
    "GetGLMFits = function(X,Om,family=quasibinomial()){\n",
    "  #Note: quasibinomial approximates a Dirichlet model\n",
    "  glmList <- list()\n",
    "  K = ncol(Om)\n",
    "  for(j in 1:K){\n",
    "     om <- Om[,j]\n",
    "     glmList[[j]] <- glm(om~X-1, family=family)\n",
    "  }\n",
    "  glmList\n",
    "}\n",
    "\n",
    "glmFitList = GetGLMFits(X,Omega[tumSelect,])\n",
    "glmFitListPCA = GetGLMFits(X,sv$u[tumSelect,1:7],family=gaussian()) # Compare to PCA\n",
    "\n",
    "# Regression Coefficients for Age\n",
    "t(sapply(glmFitList, function(u)summary(u)$coef[\"Xolder\",]))\n",
    "t(sapply(glmFitListPCA, function(u)summary(u)$coef[\"Xolder\",]))\n",
    "\n",
    "# Regression Coefficients for Luminal-A\n",
    "t(sapply(glmFitList, function(u)summary(u)$coef[\"XLumA\",]))\n",
    "t(sapply(glmFitListPCA, function(u)summary(u)$coef[\"XLumA\",]))\n"
   ]
  },
  {
   "cell_type": "code",
   "execution_count": 11,
   "metadata": {},
   "outputs": [
    {
     "data": {
      "image/png": "[encoded data removed]",
      "text/plain": [
       "plot without title"
      ]
     },
     "metadata": {},
     "output_type": "display_data"
    },
    {
     "data": {
      "image/png": "[encoded data removed]",
      "text/plain": [
       "plot without title"
      ]
     },
     "metadata": {},
     "output_type": "display_data"
    }
   ],
   "source": [
    "################################################\n",
    "# Volcano plots\n",
    "\n",
    "VolcanoByVariable = function(glmList,labelfun=function(x)x,legendpos=\"topleft\",\n",
    "  labelPrefix=\"cell type\", ncol=1){\n",
    "  tmp1 = t(sapply(glmList, function(u)summary(u)$coef[,1]))[,-1]\n",
    "  tmp2 = t(sapply(glmList, function(u)summary(u)$coef[,4]))[,-1]\n",
    "\n",
    "  xColor = brewer.pal(nrow(tmp1),\"Set1\")\n",
    "  xColor[xColor==\"#FFFF33\"]=\"black\"\n",
    "  plot(tmp1,-log10(tmp2),col=xColor[row(tmp1)],pch=\".\",\n",
    "    xlab=\"Coefficient\", ylab=\"-log10(p-value)\")\n",
    "  tmp = (tmp2<0.1)\n",
    "  points(tmp1[!tmp],-log10(tmp2[!tmp]),col=xColor[row(tmp1)], pch=19)\n",
    "\n",
    "  labels=labelfun(gsub(\"^X\",\"\",colnames(tmp1)))\n",
    "  text(tmp1[tmp],-log10(tmp2[tmp]), \n",
    "    labels[col(tmp1)[tmp]], cex=0.8, col=xColor[row(tmp1)[tmp]])\n",
    "  abline(h=-log10(0.05),lty=2,col=\"gray\")\n",
    "  abline(h=-log10(0.05/nrow(tmp1)),lty=3,col=\"gray\")\n",
    "  legend(legendpos,paste(labelPrefix,1:nrow(tmp1)),\n",
    "    cex=0.8,col=xColor,pch=19,ncol=ncol,text.col=xColor)\n",
    "}\n",
    "\n",
    "# Show volcano plot of Omega by IHC class\n",
    "VolcanoByVariable(glmFitList,function(x)gsub(\"^subtypeihc\",\"\",x),\"top\",ncol=2)\n",
    "\n",
    "# Show volcano plot of PCA by IHC class\n",
    "VolcanoByVariable(glmFitListPCA,legendpos=\"top\",ncol=2,labelPrefix=\"dimension\")\n"
   ]
  },
  {
   "cell_type": "code",
   "execution_count": null,
   "metadata": {},
   "outputs": [],
   "source": []
  }
 ],
 "metadata": {
  "kernelspec": {
   "display_name": "R",
   "language": "R",
   "name": "ir"
  },
  "language_info": {
   "codemirror_mode": "r",
   "file_extension": ".r",
   "mimetype": "text/x-r-source",
   "name": "R",
   "pygments_lexer": "r",
   "version": "3.6.0"
  }
 },
 "nbformat": 4,
 "nbformat_minor": 2
}
